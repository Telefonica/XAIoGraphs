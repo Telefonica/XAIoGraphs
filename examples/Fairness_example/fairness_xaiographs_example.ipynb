{
 "cells": [
  {
   "cell_type": "markdown",
   "metadata": {},
   "source": [
    "# Fairness example with XAIoGraphs\n",
    "\n",
    "\n",
    "* Source Dataset: https://www.kaggle.com/datasets/kukuroo3/body-performance-data"
   ]
  },
  {
   "cell_type": "code",
   "execution_count": 1,
   "metadata": {},
   "outputs": [
    {
     "name": "stdout",
     "output_type": "stream",
     "text": [
      "Dataset Shape (13393, 12)\n"
     ]
    },
    {
     "data": {
      "text/plain": "        age gender  height_cm  weight_kg  body fat_%  diastolic  systolic  \\\n13287  44.0      F      160.2       56.9        22.5       83.0     130.0   \n2594   27.0      M      181.2       73.8        22.7       69.0     125.0   \n1034   32.0      M      170.7       90.5        36.2       82.0     133.0   \n7267   28.0      M      182.6       71.7        10.2       72.0     133.0   \n6245   61.0      M      175.5       67.6        14.7       58.0     123.0   \n\n       gripForce  sit and bend forward_cm  sit-ups counts  broad jump_cm  \\\n13287       33.3                     12.3            36.0          182.0   \n2594        40.1                     18.2            49.0          228.0   \n1034        45.1                     11.4            33.0          188.0   \n7267        43.3                     18.1            62.0          269.0   \n6245        30.5                      4.3            25.0          154.0   \n\n      y_true  \n13287      C  \n2594       C  \n1034       D  \n7267       A  \n6245       C  ",
      "text/html": "<div>\n<style scoped>\n    .dataframe tbody tr th:only-of-type {\n        vertical-align: middle;\n    }\n\n    .dataframe tbody tr th {\n        vertical-align: top;\n    }\n\n    .dataframe thead th {\n        text-align: right;\n    }\n</style>\n<table border=\"1\" class=\"dataframe\">\n  <thead>\n    <tr style=\"text-align: right;\">\n      <th></th>\n      <th>age</th>\n      <th>gender</th>\n      <th>height_cm</th>\n      <th>weight_kg</th>\n      <th>body fat_%</th>\n      <th>diastolic</th>\n      <th>systolic</th>\n      <th>gripForce</th>\n      <th>sit and bend forward_cm</th>\n      <th>sit-ups counts</th>\n      <th>broad jump_cm</th>\n      <th>y_true</th>\n    </tr>\n  </thead>\n  <tbody>\n    <tr>\n      <th>13287</th>\n      <td>44.0</td>\n      <td>F</td>\n      <td>160.2</td>\n      <td>56.9</td>\n      <td>22.5</td>\n      <td>83.0</td>\n      <td>130.0</td>\n      <td>33.3</td>\n      <td>12.3</td>\n      <td>36.0</td>\n      <td>182.0</td>\n      <td>C</td>\n    </tr>\n    <tr>\n      <th>2594</th>\n      <td>27.0</td>\n      <td>M</td>\n      <td>181.2</td>\n      <td>73.8</td>\n      <td>22.7</td>\n      <td>69.0</td>\n      <td>125.0</td>\n      <td>40.1</td>\n      <td>18.2</td>\n      <td>49.0</td>\n      <td>228.0</td>\n      <td>C</td>\n    </tr>\n    <tr>\n      <th>1034</th>\n      <td>32.0</td>\n      <td>M</td>\n      <td>170.7</td>\n      <td>90.5</td>\n      <td>36.2</td>\n      <td>82.0</td>\n      <td>133.0</td>\n      <td>45.1</td>\n      <td>11.4</td>\n      <td>33.0</td>\n      <td>188.0</td>\n      <td>D</td>\n    </tr>\n    <tr>\n      <th>7267</th>\n      <td>28.0</td>\n      <td>M</td>\n      <td>182.6</td>\n      <td>71.7</td>\n      <td>10.2</td>\n      <td>72.0</td>\n      <td>133.0</td>\n      <td>43.3</td>\n      <td>18.1</td>\n      <td>62.0</td>\n      <td>269.0</td>\n      <td>A</td>\n    </tr>\n    <tr>\n      <th>6245</th>\n      <td>61.0</td>\n      <td>M</td>\n      <td>175.5</td>\n      <td>67.6</td>\n      <td>14.7</td>\n      <td>58.0</td>\n      <td>123.0</td>\n      <td>30.5</td>\n      <td>4.3</td>\n      <td>25.0</td>\n      <td>154.0</td>\n      <td>C</td>\n    </tr>\n  </tbody>\n</table>\n</div>"
     },
     "execution_count": 1,
     "metadata": {},
     "output_type": "execute_result"
    }
   ],
   "source": [
    "import pandas as pd\n",
    "\n",
    "# Read Dataset\n",
    "df = pd.read_csv('../../datasets/bodyPerformance.csv').rename({'class': 'y_true'}, axis=1)\n",
    "print('Dataset Shape {}'.format(df.shape))\n",
    "df.sample(5)"
   ]
  },
  {
   "cell_type": "markdown",
   "metadata": {},
   "source": [
    "### Discretization of the \"age\" Feature"
   ]
  },
  {
   "cell_type": "code",
   "execution_count": 2,
   "metadata": {
    "scrolled": true
   },
   "outputs": [
    {
     "data": {
      "text/plain": "      age_range   age gender  height_cm  weight_kg  body fat_%  diastolic  \\\n10523     40-49  44.0      M      169.5       75.6        24.6       99.0   \n12248     30-39  37.0      F      165.0       55.8        21.7       88.0   \n11482     20-29  28.0      M      174.3       79.9        29.1       69.0   \n12888     50-59  53.0      F      147.3       54.0        36.7       71.0   \n12897     30-39  31.0      M      175.3       84.2        25.6       78.0   \n\n       systolic  gripForce  sit and bend forward_cm  sit-ups counts  \\\n10523     147.0       38.1                      7.6            38.0   \n12248     128.0       24.9                     20.0            37.0   \n11482     118.0       38.3                      5.0            36.0   \n12888     139.0       26.4                     23.9             2.0   \n12897     138.0       52.8                      0.2            43.0   \n\n       broad jump_cm y_true  \n10523          205.0      C  \n12248          157.0      A  \n11482          199.0      D  \n12888          124.0      D  \n12897          219.0      D  ",
      "text/html": "<div>\n<style scoped>\n    .dataframe tbody tr th:only-of-type {\n        vertical-align: middle;\n    }\n\n    .dataframe tbody tr th {\n        vertical-align: top;\n    }\n\n    .dataframe thead th {\n        text-align: right;\n    }\n</style>\n<table border=\"1\" class=\"dataframe\">\n  <thead>\n    <tr style=\"text-align: right;\">\n      <th></th>\n      <th>age_range</th>\n      <th>age</th>\n      <th>gender</th>\n      <th>height_cm</th>\n      <th>weight_kg</th>\n      <th>body fat_%</th>\n      <th>diastolic</th>\n      <th>systolic</th>\n      <th>gripForce</th>\n      <th>sit and bend forward_cm</th>\n      <th>sit-ups counts</th>\n      <th>broad jump_cm</th>\n      <th>y_true</th>\n    </tr>\n  </thead>\n  <tbody>\n    <tr>\n      <th>10523</th>\n      <td>40-49</td>\n      <td>44.0</td>\n      <td>M</td>\n      <td>169.5</td>\n      <td>75.6</td>\n      <td>24.6</td>\n      <td>99.0</td>\n      <td>147.0</td>\n      <td>38.1</td>\n      <td>7.6</td>\n      <td>38.0</td>\n      <td>205.0</td>\n      <td>C</td>\n    </tr>\n    <tr>\n      <th>12248</th>\n      <td>30-39</td>\n      <td>37.0</td>\n      <td>F</td>\n      <td>165.0</td>\n      <td>55.8</td>\n      <td>21.7</td>\n      <td>88.0</td>\n      <td>128.0</td>\n      <td>24.9</td>\n      <td>20.0</td>\n      <td>37.0</td>\n      <td>157.0</td>\n      <td>A</td>\n    </tr>\n    <tr>\n      <th>11482</th>\n      <td>20-29</td>\n      <td>28.0</td>\n      <td>M</td>\n      <td>174.3</td>\n      <td>79.9</td>\n      <td>29.1</td>\n      <td>69.0</td>\n      <td>118.0</td>\n      <td>38.3</td>\n      <td>5.0</td>\n      <td>36.0</td>\n      <td>199.0</td>\n      <td>D</td>\n    </tr>\n    <tr>\n      <th>12888</th>\n      <td>50-59</td>\n      <td>53.0</td>\n      <td>F</td>\n      <td>147.3</td>\n      <td>54.0</td>\n      <td>36.7</td>\n      <td>71.0</td>\n      <td>139.0</td>\n      <td>26.4</td>\n      <td>23.9</td>\n      <td>2.0</td>\n      <td>124.0</td>\n      <td>D</td>\n    </tr>\n    <tr>\n      <th>12897</th>\n      <td>30-39</td>\n      <td>31.0</td>\n      <td>M</td>\n      <td>175.3</td>\n      <td>84.2</td>\n      <td>25.6</td>\n      <td>78.0</td>\n      <td>138.0</td>\n      <td>52.8</td>\n      <td>0.2</td>\n      <td>43.0</td>\n      <td>219.0</td>\n      <td>D</td>\n    </tr>\n  </tbody>\n</table>\n</div>"
     },
     "execution_count": 2,
     "metadata": {},
     "output_type": "execute_result"
    }
   ],
   "source": [
    "df['age_range'] = df['age'].apply(lambda x: '20-29' if (x >= 20 and x < 30)\n",
    "                                  else ('30-39' if (x >= 30 and x < 40)\n",
    "                                        else ('40-49' if (x >= 40 and x < 50)\n",
    "                                              else ('50-59' if (x >= 50 and x < 60)\n",
    "                                                    else '60-inf'))))\n",
    "\n",
    "# Set 'age_range' columns in first position\n",
    "df = df[df.columns.tolist()[-1:] +  df.columns.tolist()[:-1]]\n",
    "df.sample(5)"
   ]
  },
  {
   "cell_type": "markdown",
   "metadata": {},
   "source": [
    "### Label encoder"
   ]
  },
  {
   "cell_type": "code",
   "execution_count": 3,
   "metadata": {},
   "outputs": [
    {
     "data": {
      "text/plain": "       age_range   age  gender  height_cm  weight_kg  body fat_%  diastolic  \\\n10852          1  30.0       1      170.0       69.4        19.9       69.0   \n12628          2  43.0       0      158.8       45.2        21.1       72.0   \n835            3  56.0       0      159.5       53.9        31.3       70.0   \n9392           0  25.0       1      166.7       65.9        16.0       71.0   \n7425           1  38.0       0      171.4       56.3        29.6       57.0   \n\n       systolic  gripForce  sit and bend forward_cm  sit-ups counts  \\\n10852     116.0       39.7                     14.3            48.0   \n12628     135.0       28.8                     21.1            30.0   \n835       124.0       20.7                     32.0            24.0   \n9392      127.0       36.6                     16.8            58.0   \n7425       96.0       23.4                    -11.1            20.0   \n\n       broad jump_cm  y_true  \n10852          219.0       1  \n12628          172.0       1  \n835            135.0       1  \n9392           231.0       0  \n7425           140.0       3  ",
      "text/html": "<div>\n<style scoped>\n    .dataframe tbody tr th:only-of-type {\n        vertical-align: middle;\n    }\n\n    .dataframe tbody tr th {\n        vertical-align: top;\n    }\n\n    .dataframe thead th {\n        text-align: right;\n    }\n</style>\n<table border=\"1\" class=\"dataframe\">\n  <thead>\n    <tr style=\"text-align: right;\">\n      <th></th>\n      <th>age_range</th>\n      <th>age</th>\n      <th>gender</th>\n      <th>height_cm</th>\n      <th>weight_kg</th>\n      <th>body fat_%</th>\n      <th>diastolic</th>\n      <th>systolic</th>\n      <th>gripForce</th>\n      <th>sit and bend forward_cm</th>\n      <th>sit-ups counts</th>\n      <th>broad jump_cm</th>\n      <th>y_true</th>\n    </tr>\n  </thead>\n  <tbody>\n    <tr>\n      <th>10852</th>\n      <td>1</td>\n      <td>30.0</td>\n      <td>1</td>\n      <td>170.0</td>\n      <td>69.4</td>\n      <td>19.9</td>\n      <td>69.0</td>\n      <td>116.0</td>\n      <td>39.7</td>\n      <td>14.3</td>\n      <td>48.0</td>\n      <td>219.0</td>\n      <td>1</td>\n    </tr>\n    <tr>\n      <th>12628</th>\n      <td>2</td>\n      <td>43.0</td>\n      <td>0</td>\n      <td>158.8</td>\n      <td>45.2</td>\n      <td>21.1</td>\n      <td>72.0</td>\n      <td>135.0</td>\n      <td>28.8</td>\n      <td>21.1</td>\n      <td>30.0</td>\n      <td>172.0</td>\n      <td>1</td>\n    </tr>\n    <tr>\n      <th>835</th>\n      <td>3</td>\n      <td>56.0</td>\n      <td>0</td>\n      <td>159.5</td>\n      <td>53.9</td>\n      <td>31.3</td>\n      <td>70.0</td>\n      <td>124.0</td>\n      <td>20.7</td>\n      <td>32.0</td>\n      <td>24.0</td>\n      <td>135.0</td>\n      <td>1</td>\n    </tr>\n    <tr>\n      <th>9392</th>\n      <td>0</td>\n      <td>25.0</td>\n      <td>1</td>\n      <td>166.7</td>\n      <td>65.9</td>\n      <td>16.0</td>\n      <td>71.0</td>\n      <td>127.0</td>\n      <td>36.6</td>\n      <td>16.8</td>\n      <td>58.0</td>\n      <td>231.0</td>\n      <td>0</td>\n    </tr>\n    <tr>\n      <th>7425</th>\n      <td>1</td>\n      <td>38.0</td>\n      <td>0</td>\n      <td>171.4</td>\n      <td>56.3</td>\n      <td>29.6</td>\n      <td>57.0</td>\n      <td>96.0</td>\n      <td>23.4</td>\n      <td>-11.1</td>\n      <td>20.0</td>\n      <td>140.0</td>\n      <td>3</td>\n    </tr>\n  </tbody>\n</table>\n</div>"
     },
     "execution_count": 3,
     "metadata": {},
     "output_type": "execute_result"
    }
   ],
   "source": [
    "from sklearn.preprocessing import LabelEncoder\n",
    "\n",
    "lb_gen = LabelEncoder()\n",
    "lb_age_range = LabelEncoder()\n",
    "lb_y = LabelEncoder()\n",
    "df['gender'] = lb_gen.fit_transform(df['gender'])\n",
    "df['age_range'] = lb_age_range.fit_transform(df['age_range'])\n",
    "df['y_true'] = lb_y.fit_transform(df['y_true'])\n",
    "df.sample(5)"
   ]
  },
  {
   "cell_type": "markdown",
   "metadata": {},
   "source": [
    "### Train-Test split\n"
   ]
  },
  {
   "cell_type": "code",
   "execution_count": 4,
   "metadata": {},
   "outputs": [],
   "source": [
    "from sklearn.model_selection import train_test_split\n",
    "\n",
    "X = df[df.columns.drop('y_true')]\n",
    "y = df['y_true']\n",
    "\n",
    "X_train, X_test, y_train, y_test = train_test_split(X, y, test_size=0.3, random_state=123)\n"
   ]
  },
  {
   "cell_type": "markdown",
   "metadata": {},
   "source": [
    "### Train Model "
   ]
  },
  {
   "cell_type": "code",
   "execution_count": 5,
   "metadata": {},
   "outputs": [
    {
     "name": "stdout",
     "output_type": "stream",
     "text": [
      "Train Accuracy: 0.8424533333333334\n",
      "Test Accuracy: 0.7165256346441016\n",
      "Test Metrics:\n",
      "             precision    recall  f1-score   support\n",
      "\n",
      "          0       0.71      0.87      0.78      1024\n",
      "          1       0.58      0.58      0.58       987\n",
      "          2       0.71      0.63      0.67      1039\n",
      "          3       0.89      0.79      0.84       968\n",
      "\n",
      "avg / total       0.72      0.72      0.72      4018\n",
      "\n"
     ]
    }
   ],
   "source": [
    "from sklearn.ensemble import RandomForestClassifier\n",
    "from sklearn.metrics import accuracy_score, classification_report\n",
    "\n",
    "# Random Forest\n",
    "model = RandomForestClassifier(n_estimators=20, bootstrap=True, criterion='gini', max_depth=10, random_state=123)\n",
    "model.fit(X_train, y_train)\n",
    "\n",
    "# Evaluation Metrics\n",
    "y_train_pred = model.predict(X_train)\n",
    "y_test_pred = model.predict(X_test)\n",
    "print('Train Accuracy: {}'.format(accuracy_score(y_true=y_train, y_pred=y_train_pred)))\n",
    "print('Test Accuracy: {}'.format(accuracy_score(y_true=y_test, y_pred=y_test_pred)))\n",
    "print('Test Metrics:\\n{}'.format(classification_report(y_true=y_test, y_pred=y_test_pred)))\n"
   ]
  },
  {
   "cell_type": "markdown",
   "metadata": {},
   "source": [
    "### Predict all Dataset"
   ]
  },
  {
   "cell_type": "code",
   "execution_count": 6,
   "metadata": {
    "scrolled": true
   },
   "outputs": [
    {
     "data": {
      "text/plain": "       age_range   age  gender  height_cm  weight_kg  body fat_%  diastolic  \\\n8045           0  27.0       1      173.8       87.0        24.1       95.0   \n13269          2  46.0       1      179.0       81.2        26.7       98.0   \n60             1  37.0       1      168.9       78.8        23.4       88.0   \n7446           0  22.0       1      170.8       86.9        29.4       89.0   \n9082           1  38.0       1      176.9       68.3        17.0       76.0   \n\n       systolic  gripForce  sit and bend forward_cm  sit-ups counts  \\\n8045      158.0       39.9                     22.5            50.0   \n13269     159.0       42.7                      6.5            29.0   \n60        144.0       42.1                     20.9            47.0   \n7446      155.0       41.2                      9.4            48.0   \n9082      124.0       48.1                     14.9            49.0   \n\n       broad jump_cm  y_true  y_predict  \n8045           189.0       3          1  \n13269          211.0       3          3  \n60             241.0       2          0  \n7446           199.0       3          3  \n9082           230.0       0          0  ",
      "text/html": "<div>\n<style scoped>\n    .dataframe tbody tr th:only-of-type {\n        vertical-align: middle;\n    }\n\n    .dataframe tbody tr th {\n        vertical-align: top;\n    }\n\n    .dataframe thead th {\n        text-align: right;\n    }\n</style>\n<table border=\"1\" class=\"dataframe\">\n  <thead>\n    <tr style=\"text-align: right;\">\n      <th></th>\n      <th>age_range</th>\n      <th>age</th>\n      <th>gender</th>\n      <th>height_cm</th>\n      <th>weight_kg</th>\n      <th>body fat_%</th>\n      <th>diastolic</th>\n      <th>systolic</th>\n      <th>gripForce</th>\n      <th>sit and bend forward_cm</th>\n      <th>sit-ups counts</th>\n      <th>broad jump_cm</th>\n      <th>y_true</th>\n      <th>y_predict</th>\n    </tr>\n  </thead>\n  <tbody>\n    <tr>\n      <th>8045</th>\n      <td>0</td>\n      <td>27.0</td>\n      <td>1</td>\n      <td>173.8</td>\n      <td>87.0</td>\n      <td>24.1</td>\n      <td>95.0</td>\n      <td>158.0</td>\n      <td>39.9</td>\n      <td>22.5</td>\n      <td>50.0</td>\n      <td>189.0</td>\n      <td>3</td>\n      <td>1</td>\n    </tr>\n    <tr>\n      <th>13269</th>\n      <td>2</td>\n      <td>46.0</td>\n      <td>1</td>\n      <td>179.0</td>\n      <td>81.2</td>\n      <td>26.7</td>\n      <td>98.0</td>\n      <td>159.0</td>\n      <td>42.7</td>\n      <td>6.5</td>\n      <td>29.0</td>\n      <td>211.0</td>\n      <td>3</td>\n      <td>3</td>\n    </tr>\n    <tr>\n      <th>60</th>\n      <td>1</td>\n      <td>37.0</td>\n      <td>1</td>\n      <td>168.9</td>\n      <td>78.8</td>\n      <td>23.4</td>\n      <td>88.0</td>\n      <td>144.0</td>\n      <td>42.1</td>\n      <td>20.9</td>\n      <td>47.0</td>\n      <td>241.0</td>\n      <td>2</td>\n      <td>0</td>\n    </tr>\n    <tr>\n      <th>7446</th>\n      <td>0</td>\n      <td>22.0</td>\n      <td>1</td>\n      <td>170.8</td>\n      <td>86.9</td>\n      <td>29.4</td>\n      <td>89.0</td>\n      <td>155.0</td>\n      <td>41.2</td>\n      <td>9.4</td>\n      <td>48.0</td>\n      <td>199.0</td>\n      <td>3</td>\n      <td>3</td>\n    </tr>\n    <tr>\n      <th>9082</th>\n      <td>1</td>\n      <td>38.0</td>\n      <td>1</td>\n      <td>176.9</td>\n      <td>68.3</td>\n      <td>17.0</td>\n      <td>76.0</td>\n      <td>124.0</td>\n      <td>48.1</td>\n      <td>14.9</td>\n      <td>49.0</td>\n      <td>230.0</td>\n      <td>0</td>\n      <td>0</td>\n    </tr>\n  </tbody>\n</table>\n</div>"
     },
     "execution_count": 6,
     "metadata": {},
     "output_type": "execute_result"
    }
   ],
   "source": [
    "from copy import deepcopy\n",
    "x_cols = df.columns.drop('y_true').tolist()\n",
    "\n",
    "# Calculate predictions\n",
    "df['y_predict'] = model.predict(df[x_cols])\n",
    "df.sample(5)"
   ]
  },
  {
   "cell_type": "markdown",
   "metadata": {},
   "source": [
    "### Undo label encoder features"
   ]
  },
  {
   "cell_type": "code",
   "execution_count": 7,
   "metadata": {},
   "outputs": [
    {
     "data": {
      "text/plain": "      age_range   age gender  height_cm  weight_kg  body fat_%  diastolic  \\\n112       30-39  34.0      M      177.8      76.40        28.9       82.0   \n6966     60-inf  63.0      M      168.7      59.48        20.9       89.0   \n10640     30-39  37.0      F      157.3      61.10        33.4       69.0   \n5256      20-29  26.0      F      153.4      48.60        26.3       74.0   \n13218     20-29  24.0      F      171.1      72.50        28.8       82.0   \n9046      20-29  27.0      F      162.3      59.28        25.3       76.0   \n41        50-59  52.0      M      173.6      84.90        30.3       93.0   \n2202      40-49  48.0      F      160.5      58.00        29.8       60.0   \n12969     50-59  55.0      M      164.3      62.50        21.4       81.0   \n1297      50-59  58.0      M      165.0      61.60        19.0       78.0   \n\n       systolic  gripForce  sit and bend forward_cm  sit-ups counts  \\\n112       130.0       41.1                      5.3            38.0   \n6966      150.0       32.3                     18.0            27.0   \n10640     118.0       24.7                     19.9            25.0   \n5256      118.0       19.1                     13.6            29.0   \n13218     119.0       34.1                     29.5            52.0   \n9046      155.0       29.1                     24.4            47.0   \n41        144.0       42.0                      9.0            43.0   \n2202      109.0       25.0                     15.0            37.0   \n12969     133.0       43.8                     10.7            28.0   \n1297      121.0       37.6                     17.0            38.0   \n\n       broad jump_cm y_true y_predict  \n112            194.0      C         C  \n6966           151.0      C         B  \n10640          131.0      D         C  \n5256           142.0      C         C  \n13218          197.0      B         B  \n9046           179.0      A         A  \n41             185.0      D         D  \n2202           140.0      B         C  \n12969          166.0      C         C  \n1297           173.0      B         A  ",
      "text/html": "<div>\n<style scoped>\n    .dataframe tbody tr th:only-of-type {\n        vertical-align: middle;\n    }\n\n    .dataframe tbody tr th {\n        vertical-align: top;\n    }\n\n    .dataframe thead th {\n        text-align: right;\n    }\n</style>\n<table border=\"1\" class=\"dataframe\">\n  <thead>\n    <tr style=\"text-align: right;\">\n      <th></th>\n      <th>age_range</th>\n      <th>age</th>\n      <th>gender</th>\n      <th>height_cm</th>\n      <th>weight_kg</th>\n      <th>body fat_%</th>\n      <th>diastolic</th>\n      <th>systolic</th>\n      <th>gripForce</th>\n      <th>sit and bend forward_cm</th>\n      <th>sit-ups counts</th>\n      <th>broad jump_cm</th>\n      <th>y_true</th>\n      <th>y_predict</th>\n    </tr>\n  </thead>\n  <tbody>\n    <tr>\n      <th>112</th>\n      <td>30-39</td>\n      <td>34.0</td>\n      <td>M</td>\n      <td>177.8</td>\n      <td>76.40</td>\n      <td>28.9</td>\n      <td>82.0</td>\n      <td>130.0</td>\n      <td>41.1</td>\n      <td>5.3</td>\n      <td>38.0</td>\n      <td>194.0</td>\n      <td>C</td>\n      <td>C</td>\n    </tr>\n    <tr>\n      <th>6966</th>\n      <td>60-inf</td>\n      <td>63.0</td>\n      <td>M</td>\n      <td>168.7</td>\n      <td>59.48</td>\n      <td>20.9</td>\n      <td>89.0</td>\n      <td>150.0</td>\n      <td>32.3</td>\n      <td>18.0</td>\n      <td>27.0</td>\n      <td>151.0</td>\n      <td>C</td>\n      <td>B</td>\n    </tr>\n    <tr>\n      <th>10640</th>\n      <td>30-39</td>\n      <td>37.0</td>\n      <td>F</td>\n      <td>157.3</td>\n      <td>61.10</td>\n      <td>33.4</td>\n      <td>69.0</td>\n      <td>118.0</td>\n      <td>24.7</td>\n      <td>19.9</td>\n      <td>25.0</td>\n      <td>131.0</td>\n      <td>D</td>\n      <td>C</td>\n    </tr>\n    <tr>\n      <th>5256</th>\n      <td>20-29</td>\n      <td>26.0</td>\n      <td>F</td>\n      <td>153.4</td>\n      <td>48.60</td>\n      <td>26.3</td>\n      <td>74.0</td>\n      <td>118.0</td>\n      <td>19.1</td>\n      <td>13.6</td>\n      <td>29.0</td>\n      <td>142.0</td>\n      <td>C</td>\n      <td>C</td>\n    </tr>\n    <tr>\n      <th>13218</th>\n      <td>20-29</td>\n      <td>24.0</td>\n      <td>F</td>\n      <td>171.1</td>\n      <td>72.50</td>\n      <td>28.8</td>\n      <td>82.0</td>\n      <td>119.0</td>\n      <td>34.1</td>\n      <td>29.5</td>\n      <td>52.0</td>\n      <td>197.0</td>\n      <td>B</td>\n      <td>B</td>\n    </tr>\n    <tr>\n      <th>9046</th>\n      <td>20-29</td>\n      <td>27.0</td>\n      <td>F</td>\n      <td>162.3</td>\n      <td>59.28</td>\n      <td>25.3</td>\n      <td>76.0</td>\n      <td>155.0</td>\n      <td>29.1</td>\n      <td>24.4</td>\n      <td>47.0</td>\n      <td>179.0</td>\n      <td>A</td>\n      <td>A</td>\n    </tr>\n    <tr>\n      <th>41</th>\n      <td>50-59</td>\n      <td>52.0</td>\n      <td>M</td>\n      <td>173.6</td>\n      <td>84.90</td>\n      <td>30.3</td>\n      <td>93.0</td>\n      <td>144.0</td>\n      <td>42.0</td>\n      <td>9.0</td>\n      <td>43.0</td>\n      <td>185.0</td>\n      <td>D</td>\n      <td>D</td>\n    </tr>\n    <tr>\n      <th>2202</th>\n      <td>40-49</td>\n      <td>48.0</td>\n      <td>F</td>\n      <td>160.5</td>\n      <td>58.00</td>\n      <td>29.8</td>\n      <td>60.0</td>\n      <td>109.0</td>\n      <td>25.0</td>\n      <td>15.0</td>\n      <td>37.0</td>\n      <td>140.0</td>\n      <td>B</td>\n      <td>C</td>\n    </tr>\n    <tr>\n      <th>12969</th>\n      <td>50-59</td>\n      <td>55.0</td>\n      <td>M</td>\n      <td>164.3</td>\n      <td>62.50</td>\n      <td>21.4</td>\n      <td>81.0</td>\n      <td>133.0</td>\n      <td>43.8</td>\n      <td>10.7</td>\n      <td>28.0</td>\n      <td>166.0</td>\n      <td>C</td>\n      <td>C</td>\n    </tr>\n    <tr>\n      <th>1297</th>\n      <td>50-59</td>\n      <td>58.0</td>\n      <td>M</td>\n      <td>165.0</td>\n      <td>61.60</td>\n      <td>19.0</td>\n      <td>78.0</td>\n      <td>121.0</td>\n      <td>37.6</td>\n      <td>17.0</td>\n      <td>38.0</td>\n      <td>173.0</td>\n      <td>B</td>\n      <td>A</td>\n    </tr>\n  </tbody>\n</table>\n</div>"
     },
     "execution_count": 7,
     "metadata": {},
     "output_type": "execute_result"
    }
   ],
   "source": [
    "import warnings\n",
    "warnings.filterwarnings(action='ignore', category=DeprecationWarning)\n",
    "\n",
    "df['age_range'] = lb_age_range.inverse_transform(df['age_range'])\n",
    "df['gender'] = lb_gen.inverse_transform(df['gender'])\n",
    "df['y_true'] = lb_y.inverse_transform(df['y_true'])\n",
    "df['y_predict'] = lb_y.inverse_transform(df['y_predict'])\n",
    "df.sample(10)"
   ]
  },
  {
   "cell_type": "markdown",
   "metadata": {},
   "source": [
    "<hr>\n",
    "\n",
    "# Fairness with XAIoGraphs"
   ]
  },
  {
   "cell_type": "code",
   "execution_count": 8,
   "metadata": {},
   "outputs": [
    {
     "name": "stderr",
     "output_type": "stream",
     "text": [
      "Enconding \"gender\" column: 100%|██████████| 12/12 [00:00<00:00, 364.58it/s]\n",
      "Checking \"broad jump_cm\" column: 100%|██████████| 12/12 [00:00<00:00, 316.64it/s]\n"
     ]
    },
    {
     "name": "stdout",
     "output_type": "stream",
     "text": [
      "Highly correlated variables above the 0.9 Threshold\n",
      "  feature_1  feature_2  correlation_value  is_correlation_sensible\n",
      "0       age  age_range           0.979564                     True\n"
     ]
    },
    {
     "name": "stderr",
     "output_type": "stream",
     "text": [
      "Processing: sensitive_col=age_range, sensitive_value=20-29, target_label=A :   0%|          | 0/5 [00:00<?, ?it/s]\n"
     ]
    },
    {
     "ename": "TypeError",
     "evalue": "aggregate() missing 1 required positional argument: 'func_or_funcs'",
     "output_type": "error",
     "traceback": [
      "\u001B[1;31m---------------------------------------------------------------------------\u001B[0m",
      "\u001B[1;31mTypeError\u001B[0m                                 Traceback (most recent call last)",
      "\u001B[1;32m<ipython-input-8-8dbaa2e2172a>\u001B[0m in \u001B[0;36m<module>\u001B[1;34m()\u001B[0m\n\u001B[0;32m      6\u001B[0m                \u001B[0msensitive_cols\u001B[0m\u001B[1;33m=\u001B[0m\u001B[1;33m[\u001B[0m\u001B[1;34m'age_range'\u001B[0m\u001B[1;33m,\u001B[0m \u001B[1;34m'gender'\u001B[0m\u001B[1;33m]\u001B[0m\u001B[1;33m,\u001B[0m\u001B[1;33m\u001B[0m\u001B[0m\n\u001B[0;32m      7\u001B[0m                \u001B[0mtarget_col\u001B[0m\u001B[1;33m=\u001B[0m\u001B[1;34m'y_true'\u001B[0m\u001B[1;33m,\u001B[0m\u001B[1;33m\u001B[0m\u001B[0m\n\u001B[1;32m----> 8\u001B[1;33m                predict_col='y_predict')\n\u001B[0m",
      "\u001B[1;32m~\\Documents\\workspace\\XAIoGraphs\\xaiographs\\fairness.py\u001B[0m in \u001B[0;36mfit_fairness\u001B[1;34m(self, df, sensitive_cols, target_col, predict_col)\u001B[0m\n\u001B[0;32m    343\u001B[0m         \"\"\"\n\u001B[0;32m    344\u001B[0m         \u001B[0mself\u001B[0m\u001B[1;33m.\u001B[0m\u001B[0m__pre_processing\u001B[0m\u001B[1;33m(\u001B[0m\u001B[0mdf\u001B[0m\u001B[1;33m=\u001B[0m\u001B[0mdf\u001B[0m\u001B[1;33m,\u001B[0m \u001B[0msensitive_cols\u001B[0m\u001B[1;33m=\u001B[0m\u001B[0msensitive_cols\u001B[0m\u001B[1;33m,\u001B[0m \u001B[0mtarget_col\u001B[0m\u001B[1;33m=\u001B[0m\u001B[0mtarget_col\u001B[0m\u001B[1;33m,\u001B[0m \u001B[0mpredict_col\u001B[0m\u001B[1;33m=\u001B[0m\u001B[0mpredict_col\u001B[0m\u001B[1;33m)\u001B[0m\u001B[1;33m\u001B[0m\u001B[0m\n\u001B[1;32m--> 345\u001B[1;33m         \u001B[0mself\u001B[0m\u001B[1;33m.\u001B[0m\u001B[0m__in_processing\u001B[0m\u001B[1;33m(\u001B[0m\u001B[0mdf\u001B[0m\u001B[1;33m=\u001B[0m\u001B[0mdf\u001B[0m\u001B[1;33m,\u001B[0m \u001B[0msensitive_cols\u001B[0m\u001B[1;33m=\u001B[0m\u001B[0msensitive_cols\u001B[0m\u001B[1;33m,\u001B[0m \u001B[0mtarget_col\u001B[0m\u001B[1;33m=\u001B[0m\u001B[0mtarget_col\u001B[0m\u001B[1;33m,\u001B[0m \u001B[0mpredict_col\u001B[0m\u001B[1;33m=\u001B[0m\u001B[0mpredict_col\u001B[0m\u001B[1;33m)\u001B[0m\u001B[1;33m\u001B[0m\u001B[0m\n\u001B[0m\u001B[0;32m    346\u001B[0m         \u001B[0mself\u001B[0m\u001B[1;33m.\u001B[0m\u001B[0m__post_processing\u001B[0m\u001B[1;33m(\u001B[0m\u001B[1;33m)\u001B[0m\u001B[1;33m\u001B[0m\u001B[0m\n\u001B[0;32m    347\u001B[0m \u001B[1;33m\u001B[0m\u001B[0m\n",
      "\u001B[1;32m~\\Documents\\workspace\\XAIoGraphs\\xaiographs\\fairness.py\u001B[0m in \u001B[0;36m__in_processing\u001B[1;34m(self, df, sensitive_cols, target_col, predict_col)\u001B[0m\n\u001B[0;32m    430\u001B[0m                                                     sensitive_value=(sensitive_values if len(sensitive_values) == BINARY\n\u001B[0;32m    431\u001B[0m                                                                      else sensitive_value),\n\u001B[1;32m--> 432\u001B[1;33m                                                     is_sensitive_col_binary=len(sensitive_values) == BINARY)\n\u001B[0m\u001B[0;32m    433\u001B[0m                     \u001B[1;32mif\u001B[0m \u001B[0mlen\u001B[0m\u001B[1;33m(\u001B[0m\u001B[0msensitive_values\u001B[0m\u001B[1;33m)\u001B[0m \u001B[1;33m==\u001B[0m \u001B[0mBINARY\u001B[0m\u001B[1;33m:\u001B[0m\u001B[1;33m\u001B[0m\u001B[0m\n\u001B[0;32m    434\u001B[0m                         \u001B[1;32mbreak\u001B[0m\u001B[1;33m\u001B[0m\u001B[0m\n",
      "\u001B[1;32m~\\Documents\\workspace\\XAIoGraphs\\xaiographs\\fairness.py\u001B[0m in \u001B[0;36m__process_sensitive_column\u001B[1;34m(self, df, sensitive_col, target_col, predict_col, target_label, sensitive_value, is_sensitive_col_binary)\u001B[0m\n\u001B[0;32m    572\u001B[0m                                                    \u001B[0msensitive_value\u001B[0m\u001B[1;33m=\u001B[0m\u001B[0msensitive_val\u001B[0m\u001B[1;33m,\u001B[0m\u001B[1;33m\u001B[0m\u001B[0m\n\u001B[0;32m    573\u001B[0m                                                    \u001B[0mpredict_col\u001B[0m\u001B[1;33m=\u001B[0m\u001B[0mpredict_col\u001B[0m\u001B[1;33m,\u001B[0m\u001B[1;33m\u001B[0m\u001B[0m\n\u001B[1;32m--> 574\u001B[1;33m                                                    target_label=target_label)\n\u001B[0m\u001B[0;32m    575\u001B[0m \u001B[1;33m\u001B[0m\u001B[0m\n\u001B[0;32m    576\u001B[0m         \u001B[1;31m# Calculo del peso (porcentaje) que tiene la etiqueta target_label frente a la varible sensible\u001B[0m\u001B[1;33m\u001B[0m\u001B[1;33m\u001B[0m\u001B[0m\n",
      "\u001B[1;32m~\\Documents\\workspace\\XAIoGraphs\\xaiographs\\fairness.py\u001B[0m in \u001B[0;36m__score_weight\u001B[1;34m(df, sensitive_col, sensitive_value, predict_col, target_label, groupby_cols)\u001B[0m\n\u001B[0;32m    294\u001B[0m         \u001B[1;33m:\u001B[0m\u001B[1;32mreturn\u001B[0m\u001B[1;33m:\u001B[0m\u001B[1;33m\u001B[0m\u001B[0m\n\u001B[0;32m    295\u001B[0m         \"\"\"\n\u001B[1;32m--> 296\u001B[1;33m         \u001B[0mdfp\u001B[0m \u001B[1;33m=\u001B[0m \u001B[0mdf\u001B[0m\u001B[1;33m.\u001B[0m\u001B[0mgroupby\u001B[0m\u001B[1;33m(\u001B[0m\u001B[0mgroupby_cols\u001B[0m\u001B[1;33m)\u001B[0m\u001B[1;33m[\u001B[0m\u001B[0msensitive_col\u001B[0m\u001B[1;33m]\u001B[0m\u001B[1;33m.\u001B[0m\u001B[0magg\u001B[0m\u001B[1;33m(\u001B[0m\u001B[0mcount\u001B[0m\u001B[1;33m=\u001B[0m\u001B[1;34m'count'\u001B[0m\u001B[1;33m)\u001B[0m\u001B[1;33m.\u001B[0m\u001B[0mreset_index\u001B[0m\u001B[1;33m(\u001B[0m\u001B[1;33m)\u001B[0m\u001B[1;33m\u001B[0m\u001B[0m\n\u001B[0m\u001B[0;32m    297\u001B[0m         \u001B[0mdfp\u001B[0m\u001B[1;33m[\u001B[0m\u001B[1;34m'pct'\u001B[0m\u001B[1;33m]\u001B[0m \u001B[1;33m=\u001B[0m \u001B[0mdfp\u001B[0m\u001B[1;33m[\u001B[0m\u001B[1;34m'count'\u001B[0m\u001B[1;33m]\u001B[0m \u001B[1;33m/\u001B[0m \u001B[0mdfp\u001B[0m\u001B[1;33m[\u001B[0m\u001B[1;34m'count'\u001B[0m\u001B[1;33m]\u001B[0m\u001B[1;33m.\u001B[0m\u001B[0msum\u001B[0m\u001B[1;33m(\u001B[0m\u001B[1;33m)\u001B[0m\u001B[1;33m\u001B[0m\u001B[0m\n\u001B[0;32m    298\u001B[0m         \u001B[1;32mif\u001B[0m \u001B[0msensitive_col\u001B[0m \u001B[1;32min\u001B[0m \u001B[0mdfp\u001B[0m\u001B[1;33m.\u001B[0m\u001B[0mcolumns\u001B[0m\u001B[1;33m:\u001B[0m\u001B[1;33m\u001B[0m\u001B[0m\n",
      "\u001B[1;31mTypeError\u001B[0m: aggregate() missing 1 required positional argument: 'func_or_funcs'"
     ]
    }
   ],
   "source": [
    "from xaiographs.fairness import Fairness\n",
    "\n",
    "f = Fairness(destination_path='./xaiographs_web_files')\n",
    "\n",
    "f.fit_fairness(df=df, \n",
    "               sensitive_cols=['age_range', 'gender'], \n",
    "               target_col='y_true', \n",
    "               predict_col='y_predict')\n",
    "\n"
   ]
  },
  {
   "cell_type": "code",
   "execution_count": null,
   "outputs": [],
   "source": [],
   "metadata": {
    "collapsed": false
   }
  }
 ],
 "metadata": {
  "kernelspec": {
   "display_name": "Python 3",
   "language": "python",
   "name": "python3"
  },
  "language_info": {
   "codemirror_mode": {
    "name": "ipython",
    "version": 3
   },
   "file_extension": ".py",
   "mimetype": "text/x-python",
   "name": "python",
   "nbconvert_exporter": "python",
   "pygments_lexer": "ipython3",
   "version": "3.6.5"
  }
 },
 "nbformat": 4,
 "nbformat_minor": 2
}
