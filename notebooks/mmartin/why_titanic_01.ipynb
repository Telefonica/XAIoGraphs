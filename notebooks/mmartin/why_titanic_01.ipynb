{
 "cells": [
  {
   "cell_type": "code",
   "execution_count": 1,
   "metadata": {},
   "outputs": [],
   "source": [
    "import pandas as pd\n",
    "import random\n",
    "from string import Template\n",
    "from typing import Any, List, Tuple, Union"
   ]
  },
  {
   "cell_type": "code",
   "execution_count": 32,
   "metadata": {},
   "outputs": [],
   "source": [
    "#######################################################\n",
    "# CONSTANTS\n",
    "#######################################################\n",
    "LANG_ES = 'es'\n",
    "LANG_EN = 'en'\n",
    "NODE_IMPORTANCE = 'node_importance'\n",
    "NODE_NAME = 'node_name'\n",
    "QUALITY_MEASURE = 'quality_measure'\n",
    "RANK = 'rank'\n",
    "REASON = 'reason'\n",
    "TARGET = 'target'"
   ]
  },
  {
   "cell_type": "code",
   "execution_count": 70,
   "metadata": {},
   "outputs": [],
   "source": [
    "class Why:\n",
    "    \n",
    "    _LOCAL = 'local'\n",
    "    _GLOBAL = 'global'\n",
    "    _SEP_LAST = {\n",
    "        LANG_ES: ' y ',\n",
    "        LANG_EN: ' and '\n",
    "    }\n",
    "    _DEFAULT_REASON = {\n",
    "        LANG_ES: 'No es posible ofrecer una explicación para este caso',\n",
    "        LANG_EN: 'No explanation available for this case'\n",
    "    }\n",
    "    \n",
    "    def __init__(self, language: str, local_expl: pd.DataFrame, local_nodes: pd.DataFrame, why_elements: pd.DataFrame,\n",
    "                 why_target: pd.DataFrame, why_templates: pd.DataFrame, quality_measure: pd.DataFrame,\n",
    "                 n_local_features: int = 2, n_global_features: int = 2, min_quality: float = 0.0):\n",
    "        self.language = language\n",
    "        if self.language not in self._SEP_LAST.keys():\n",
    "            raise Exception('Language {} not supported'.format(language))\n",
    "        self.local_expl = local_expl\n",
    "        self.local_nodes = local_nodes\n",
    "        self.why_elements = why_elements\n",
    "        self.why_target = why_target\n",
    "        self.why_templates = why_templates\n",
    "        self.quality_measure = quality_measure\n",
    "        self.n_local_features = n_local_features\n",
    "        self.n_global_features = n_global_features\n",
    "        self.min_quality = min_quality\n",
    "        \n",
    "    def __build_template(self, items: Union[List, Tuple], sep=', ') -> str:\n",
    "        sep_last = self._SEP_LAST[self.language]\n",
    "        i_list = ['$' + i for i in (items if isinstance(items, list) else list(items))]\n",
    "        return (sep.join(i_list[:-1]) + sep_last + i_list[-1]) if len(i_list) > 1 else i_list[0]\n",
    "        \n",
    "    def get_reason_why(self, key_column: str, key_value: Any) -> str:\n",
    "        # Check the quality of the explainability values\n",
    "        quality = self.quality_measure[self.quality_measure[key_column] == key_value][QUALITY_MEASURE].loc[0]\n",
    "        if quality < self.min_quality:\n",
    "            # return self._DEFAULT_REASON[self.language]\n",
    "            return self.why_templates.iloc[0, 0]\n",
    "        \n",
    "        # Build a dataframe with all the case information\n",
    "        df = (self.local_expl[self.local_expl[key_column] == key_value][[key_column, TARGET]]\n",
    "              .merge(self.local_nodes[self.local_nodes[key_column] == key_value][[key_column, NODE_NAME, NODE_IMPORTANCE]],\n",
    "                     on=key_column, how='inner')\n",
    "              .merge(self.why_elements\n",
    "                     .rename(columns={'feature': NODE_NAME}),\n",
    "                     on=NODE_NAME, how='inner')\n",
    "              .merge(self.why_target\n",
    "                     .rename(columns={'feature': NODE_NAME}),\n",
    "                     on=[TARGET, NODE_NAME], how='inner', suffixes=['_' + self._LOCAL, '_' + self._GLOBAL])\n",
    "              .sort_values(by=NODE_IMPORTANCE, ascending=False))\n",
    "\n",
    "        # Build why sentence\n",
    "        kw_local = dict([('v_' + self._LOCAL + '_' + str(i), v) for i, v in enumerate(df['reason_' + self._LOCAL].iloc[:self.n_local_features])])\n",
    "        kw_global = dict([('v_' + self._GLOBAL + '_' + str(i), v) for i, v in enumerate(df['reason_' + self._GLOBAL].iloc[:self.n_global_features])])\n",
    "        temp_local_explain = self.__build_template(items=kw_local)\n",
    "        temp_global_explain = self.__build_template(items=kw_global)\n",
    "\n",
    "        random_template = random.randint(1, self.why_templates.size - 1)\n",
    "        # random_template = 2\n",
    "        temp_why_str = (Template(Template(self.why_templates.iloc[random_template, 0])\n",
    "                                 .substitute(temp_local_explain=temp_local_explain,\n",
    "                                             temp_global_explain=temp_global_explain,\n",
    "                                             target=df[TARGET].iloc[0]))\n",
    "                        .substitute(**kw_local, **kw_global)\n",
    "                        .capitalize())\n",
    "        return temp_why_str\n"
   ]
  },
  {
   "cell_type": "code",
   "execution_count": 71,
   "metadata": {},
   "outputs": [],
   "source": [
    "# Read files as Pandas dataframes\n",
    "local_expl = pd.read_csv('../../examples/example_why_titanic/local_explainability.csv')\n",
    "local_nodes = pd.read_csv('../../examples/example_why_titanic/local_graph_nodes.csv')\n",
    "qm = pd.read_csv('../../examples/example_why_titanic/local_dataset_reliability.csv')\n",
    "why_elements = pd.read_csv('../../examples/example_why_titanic/why_element.csv', comment='#')\n",
    "why_target = pd.read_csv('../../examples/example_why_titanic/why_target.csv', comment='#')\n",
    "why_templates = pd.read_fwf('../../examples/example_why_titanic/templates.csv', header=None)"
   ]
  },
  {
   "cell_type": "code",
   "execution_count": 76,
   "metadata": {},
   "outputs": [],
   "source": [
    "# Instantiate Why object\n",
    "why = Why(language='es', local_expl=local_expl, local_nodes=local_nodes, why_elements=why_elements, why_target=why_target,\n",
    "          why_templates=why_templates, quality_measure=qm, n_local_features=3, n_global_features=3, min_quality=0.0)"
   ]
  },
  {
   "cell_type": "code",
   "execution_count": 87,
   "metadata": {},
   "outputs": [
    {
     "data": {
      "text/plain": [
       "'La clasificación de este caso como survivors se debe a viajar en 1ª clase, pagar mucho por el billete y viajar solo, ya que muchos viajaban en 1ª clase, pagaron mucho por el billete y viajaba solo.'"
      ]
     },
     "execution_count": 87,
     "metadata": {},
     "output_type": "execute_result"
    }
   ],
   "source": [
    "# Request explanation\n",
    "why.get_reason_why(key_column='id', key_value=5)"
   ]
  },
  {
   "cell_type": "code",
   "execution_count": null,
   "metadata": {},
   "outputs": [],
   "source": []
  }
 ],
 "metadata": {
  "kernelspec": {
   "display_name": "Python 3 (ipykernel)",
   "language": "python",
   "name": "python3"
  },
  "language_info": {
   "codemirror_mode": {
    "name": "ipython",
    "version": 3
   },
   "file_extension": ".py",
   "mimetype": "text/x-python",
   "name": "python",
   "nbconvert_exporter": "python",
   "pygments_lexer": "ipython3",
   "version": "3.7.9"
  }
 },
 "nbformat": 4,
 "nbformat_minor": 1
}
