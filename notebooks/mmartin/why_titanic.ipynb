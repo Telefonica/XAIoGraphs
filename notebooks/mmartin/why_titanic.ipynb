{
 "cells": [
  {
   "cell_type": "code",
   "execution_count": 1,
   "metadata": {},
   "outputs": [],
   "source": [
    "import os\n",
    "import pandas as pd\n",
    "import random\n",
    "from string import Template\n",
    "from typing import Any, List, Tuple, Union"
   ]
  },
  {
   "cell_type": "code",
   "execution_count": 2,
   "metadata": {},
   "outputs": [],
   "source": [
    "#######################################################\n",
    "# CONSTANTS\n",
    "#######################################################\n",
    "LANG_ES = 'es'\n",
    "LANG_EN = 'en'\n",
    "NODE_IMPORTANCE = 'node_importance'\n",
    "NODE_NAME = 'node_name'\n",
    "QUALITY_MEASURE = 'quality_measure'\n",
    "RAND = 'rand'\n",
    "RANK = 'rank'\n",
    "REASON = 'reason'\n",
    "TARGET = 'target'"
   ]
  },
  {
   "cell_type": "code",
   "execution_count": 39,
   "metadata": {},
   "outputs": [],
   "source": [
    "class Why:\n",
    "    \n",
    "    _LOCAL = 'local'\n",
    "    _GLOBAL = 'global'\n",
    "    _SEP_LAST = {\n",
    "        LANG_ES: ' y ',\n",
    "        LANG_EN: ' and '\n",
    "    }\n",
    "    \n",
    "    def __init__(self, language: str, local_expl: pd.DataFrame, local_nodes: pd.DataFrame, why_elements: pd.DataFrame,\n",
    "                 why_target: pd.DataFrame, why_templates: pd.DataFrame, quality_measure: pd.DataFrame,\n",
    "                 n_local_features: int = 2, n_global_features: int = 2, min_quality: float = 0.0):\n",
    "        self.language = language\n",
    "        if self.language not in self._SEP_LAST.keys():\n",
    "            raise Exception('Language {} not supported'.format(language))\n",
    "        self.local_expl = local_expl\n",
    "        self.local_nodes = local_nodes\n",
    "        self.why_elements = why_elements\n",
    "        self.why_target = why_target\n",
    "        self.why_templates = why_templates\n",
    "        self.quality_measure = quality_measure\n",
    "        self.n_local_features = n_local_features\n",
    "        self.n_global_features = n_global_features\n",
    "        self.min_quality = min_quality\n",
    "        \n",
    "    def __build_template(self, items: Union[List, Tuple], sep=', ') -> str:\n",
    "        sep_last = self._SEP_LAST[self.language]\n",
    "        i_list = ['$' + i for i in (items if isinstance(items, list) else list(items))]\n",
    "        return (sep.join(i_list[:-1]) + sep_last + i_list[-1]) if len(i_list) > 1 else i_list[0]\n",
    "        \n",
    "    def get_reason_why(self, key_column: str, key_value: Any, template_index: Union[str, int] = RAND) -> str:\n",
    "        # Check the quality of the explainability values\n",
    "        quality = self.quality_measure[self.quality_measure[key_column] == key_value][QUALITY_MEASURE].loc[0]\n",
    "        if quality < self.min_quality:\n",
    "            return self.why_templates.iloc[0, 0]\n",
    "        \n",
    "        # Build a dataframe with all the case information\n",
    "        df = (self.local_expl[self.local_expl[key_column] == key_value][[key_column, TARGET]]\n",
    "              .merge(self.local_nodes[self.local_nodes[key_column] == key_value][[key_column, NODE_NAME, NODE_IMPORTANCE]],\n",
    "                     on=key_column, how='inner')\n",
    "              .merge(self.why_elements\n",
    "                     .rename(columns={'feature': NODE_NAME}),\n",
    "                     on=NODE_NAME, how='inner')\n",
    "              .merge(self.why_target\n",
    "                     .rename(columns={'feature': NODE_NAME}),\n",
    "                     on=[TARGET, NODE_NAME], how='inner', suffixes=['_' + self._LOCAL, '_' + self._GLOBAL])\n",
    "              .sort_values(by=NODE_IMPORTANCE, ascending=False))\n",
    "\n",
    "        # Build why sentence\n",
    "        kw_local = dict([('v_' + self._LOCAL + '_' + str(i), v) for i, v in enumerate(df['reason_' + self._LOCAL].iloc[:self.n_local_features])])\n",
    "        kw_global = dict([('v_' + self._GLOBAL + '_' + str(i), v) for i, v in enumerate(df['reason_' + self._GLOBAL].iloc[:self.n_global_features])])\n",
    "        temp_local_explain = self.__build_template(items=kw_local)\n",
    "        temp_global_explain = self.__build_template(items=kw_global)\n",
    "\n",
    "        temp_idx_max = self.why_templates.size - 1\n",
    "        temp_idx = random.randint(1, temp_idx_max) if template_index == RAND else min(template_index, temp_idx_max)\n",
    "        temp_why_str = (Template(Template(self.why_templates.iloc[temp_idx, 0])\n",
    "                                 .substitute(temp_local_explain=temp_local_explain,\n",
    "                                             temp_global_explain=temp_global_explain,\n",
    "                                             target=df[TARGET].iloc[0]))\n",
    "                        .substitute(**kw_local, **kw_global)\n",
    "                        .capitalize())\n",
    "        return temp_why_str\n"
   ]
  },
  {
   "cell_type": "code",
   "execution_count": 35,
   "metadata": {},
   "outputs": [],
   "source": [
    "# Read files as Pandas dataframes\n",
    "# data_path = '../../examples/example_why_titanic\n",
    "path_why = 'C:/datos/AIP/proyectos/XAIoGraphs/data/why'\n",
    "path_explainer_output = os.path.join(path_why, 'tmp')\n",
    "data_path = 'C:/datos/AIP/proyectos/XAIoGraphs/data/why/tmp'\n",
    "local_expl = pd.read_csv(os.path.join(path_explainer_output, 'local_explainability.csv'))\n",
    "local_nodes = pd.read_csv(os.path.join(path_explainer_output, 'local_graph_nodes.csv'))\n",
    "qm = pd.read_csv(os.path.join(path_explainer_output, 'local_dataset_reliability.csv'))\n",
    "why_elements = pd.read_csv(os.path.join(path_why, 'why_element.csv'), comment='#')\n",
    "why_target = pd.read_csv(os.path.join(path_why, 'why_target.csv'), comment='#')\n",
    "why_templates = pd.read_fwf(os.path.join(path_why, 'templates.csv'), header=None)"
   ]
  },
  {
   "cell_type": "code",
   "execution_count": 43,
   "metadata": {},
   "outputs": [
    {
     "data": {
      "text/plain": [
       "target  \n",
       "target_3    54\n",
       "target_1    25\n",
       "target_2    21\n",
       "dtype: int64"
      ]
     },
     "execution_count": 43,
     "metadata": {},
     "output_type": "execute_result"
    }
   ],
   "source": [
    "# local_expl[local_expl['id'] == 9]\n",
    "# local_nodes[local_nodes['id'] == 9]\n",
    "# local_expl.shape\n",
    "# qm[qm['id'] == 9]\n",
    "qm[['target']].value_counts()"
   ]
  },
  {
   "cell_type": "code",
   "execution_count": 33,
   "metadata": {},
   "outputs": [],
   "source": [
    "# Instantiate Why object\n",
    "why = Why(language='es', local_expl=local_expl, local_nodes=local_nodes, why_elements=why_elements, why_target=why_target,\n",
    "          why_templates=why_templates, quality_measure=qm, n_local_features=3, n_global_features=3, min_quality=0.0)"
   ]
  },
  {
   "cell_type": "code",
   "execution_count": 34,
   "metadata": {},
   "outputs": [
    {
     "name": "stdout",
     "output_type": "stream",
     "text": [
      "Index(['id', 'target', 'node_name', 'node_importance', 'reason_local',\n",
      "       'reason_global'],\n",
      "      dtype='object')\n",
      "(0, 6)\n",
      "target_1    1\n",
      "Name: target, dtype: int64\n"
     ]
    },
    {
     "ename": "IndexError",
     "evalue": "list index out of range",
     "output_type": "error",
     "traceback": [
      "\u001B[1;31m---------------------------------------------------------------------------\u001B[0m",
      "\u001B[1;31mIndexError\u001B[0m                                Traceback (most recent call last)",
      "\u001B[1;32m~\\AppData\\Local\\Temp\\ipykernel_20320\\938182350.py\u001B[0m in \u001B[0;36m<module>\u001B[1;34m\u001B[0m\n\u001B[0;32m      1\u001B[0m \u001B[1;31m# Request explanation\u001B[0m\u001B[1;33m\u001B[0m\u001B[1;33m\u001B[0m\u001B[1;33m\u001B[0m\u001B[0m\n\u001B[1;32m----> 2\u001B[1;33m \u001B[0mwhy\u001B[0m\u001B[1;33m.\u001B[0m\u001B[0mget_reason_why\u001B[0m\u001B[1;33m(\u001B[0m\u001B[0mkey_column\u001B[0m\u001B[1;33m=\u001B[0m\u001B[1;34m'id'\u001B[0m\u001B[1;33m,\u001B[0m \u001B[0mkey_value\u001B[0m\u001B[1;33m=\u001B[0m\u001B[1;36m9\u001B[0m\u001B[1;33m)\u001B[0m\u001B[1;33m\u001B[0m\u001B[1;33m\u001B[0m\u001B[0m\n\u001B[0m\u001B[0;32m      3\u001B[0m \u001B[1;31m# qm\u001B[0m\u001B[1;33m\u001B[0m\u001B[1;33m\u001B[0m\u001B[1;33m\u001B[0m\u001B[0m\n",
      "\u001B[1;32m~\\AppData\\Local\\Temp\\ipykernel_20320\\3837612079.py\u001B[0m in \u001B[0;36mget_reason_why\u001B[1;34m(self, key_column, key_value, template_index)\u001B[0m\n\u001B[0;32m     53\u001B[0m         \u001B[0mkw_local\u001B[0m \u001B[1;33m=\u001B[0m \u001B[0mdict\u001B[0m\u001B[1;33m(\u001B[0m\u001B[1;33m[\u001B[0m\u001B[1;33m(\u001B[0m\u001B[1;34m'v_'\u001B[0m \u001B[1;33m+\u001B[0m \u001B[0mself\u001B[0m\u001B[1;33m.\u001B[0m\u001B[0m_LOCAL\u001B[0m \u001B[1;33m+\u001B[0m \u001B[1;34m'_'\u001B[0m \u001B[1;33m+\u001B[0m \u001B[0mstr\u001B[0m\u001B[1;33m(\u001B[0m\u001B[0mi\u001B[0m\u001B[1;33m)\u001B[0m\u001B[1;33m,\u001B[0m \u001B[0mv\u001B[0m\u001B[1;33m)\u001B[0m \u001B[1;32mfor\u001B[0m \u001B[0mi\u001B[0m\u001B[1;33m,\u001B[0m \u001B[0mv\u001B[0m \u001B[1;32min\u001B[0m \u001B[0menumerate\u001B[0m\u001B[1;33m(\u001B[0m\u001B[0mdf\u001B[0m\u001B[1;33m[\u001B[0m\u001B[1;34m'reason_'\u001B[0m \u001B[1;33m+\u001B[0m \u001B[0mself\u001B[0m\u001B[1;33m.\u001B[0m\u001B[0m_LOCAL\u001B[0m\u001B[1;33m]\u001B[0m\u001B[1;33m.\u001B[0m\u001B[0miloc\u001B[0m\u001B[1;33m[\u001B[0m\u001B[1;33m:\u001B[0m\u001B[0mself\u001B[0m\u001B[1;33m.\u001B[0m\u001B[0mn_local_features\u001B[0m\u001B[1;33m]\u001B[0m\u001B[1;33m)\u001B[0m\u001B[1;33m]\u001B[0m\u001B[1;33m)\u001B[0m\u001B[1;33m\u001B[0m\u001B[1;33m\u001B[0m\u001B[0m\n\u001B[0;32m     54\u001B[0m         \u001B[0mkw_global\u001B[0m \u001B[1;33m=\u001B[0m \u001B[0mdict\u001B[0m\u001B[1;33m(\u001B[0m\u001B[1;33m[\u001B[0m\u001B[1;33m(\u001B[0m\u001B[1;34m'v_'\u001B[0m \u001B[1;33m+\u001B[0m \u001B[0mself\u001B[0m\u001B[1;33m.\u001B[0m\u001B[0m_GLOBAL\u001B[0m \u001B[1;33m+\u001B[0m \u001B[1;34m'_'\u001B[0m \u001B[1;33m+\u001B[0m \u001B[0mstr\u001B[0m\u001B[1;33m(\u001B[0m\u001B[0mi\u001B[0m\u001B[1;33m)\u001B[0m\u001B[1;33m,\u001B[0m \u001B[0mv\u001B[0m\u001B[1;33m)\u001B[0m \u001B[1;32mfor\u001B[0m \u001B[0mi\u001B[0m\u001B[1;33m,\u001B[0m \u001B[0mv\u001B[0m \u001B[1;32min\u001B[0m \u001B[0menumerate\u001B[0m\u001B[1;33m(\u001B[0m\u001B[0mdf\u001B[0m\u001B[1;33m[\u001B[0m\u001B[1;34m'reason_'\u001B[0m \u001B[1;33m+\u001B[0m \u001B[0mself\u001B[0m\u001B[1;33m.\u001B[0m\u001B[0m_GLOBAL\u001B[0m\u001B[1;33m]\u001B[0m\u001B[1;33m.\u001B[0m\u001B[0miloc\u001B[0m\u001B[1;33m[\u001B[0m\u001B[1;33m:\u001B[0m\u001B[0mself\u001B[0m\u001B[1;33m.\u001B[0m\u001B[0mn_global_features\u001B[0m\u001B[1;33m]\u001B[0m\u001B[1;33m)\u001B[0m\u001B[1;33m]\u001B[0m\u001B[1;33m)\u001B[0m\u001B[1;33m\u001B[0m\u001B[1;33m\u001B[0m\u001B[0m\n\u001B[1;32m---> 55\u001B[1;33m         \u001B[0mtemp_local_explain\u001B[0m \u001B[1;33m=\u001B[0m \u001B[0mself\u001B[0m\u001B[1;33m.\u001B[0m\u001B[0m__build_template\u001B[0m\u001B[1;33m(\u001B[0m\u001B[0mitems\u001B[0m\u001B[1;33m=\u001B[0m\u001B[0mkw_local\u001B[0m\u001B[1;33m)\u001B[0m\u001B[1;33m\u001B[0m\u001B[1;33m\u001B[0m\u001B[0m\n\u001B[0m\u001B[0;32m     56\u001B[0m         \u001B[0mtemp_global_explain\u001B[0m \u001B[1;33m=\u001B[0m \u001B[0mself\u001B[0m\u001B[1;33m.\u001B[0m\u001B[0m__build_template\u001B[0m\u001B[1;33m(\u001B[0m\u001B[0mitems\u001B[0m\u001B[1;33m=\u001B[0m\u001B[0mkw_global\u001B[0m\u001B[1;33m)\u001B[0m\u001B[1;33m\u001B[0m\u001B[1;33m\u001B[0m\u001B[0m\n\u001B[0;32m     57\u001B[0m \u001B[1;33m\u001B[0m\u001B[0m\n",
      "\u001B[1;32m~\\AppData\\Local\\Temp\\ipykernel_20320\\3837612079.py\u001B[0m in \u001B[0;36m__build_template\u001B[1;34m(self, items, sep)\u001B[0m\n\u001B[0;32m     27\u001B[0m         \u001B[0msep_last\u001B[0m \u001B[1;33m=\u001B[0m \u001B[0mself\u001B[0m\u001B[1;33m.\u001B[0m\u001B[0m_SEP_LAST\u001B[0m\u001B[1;33m[\u001B[0m\u001B[0mself\u001B[0m\u001B[1;33m.\u001B[0m\u001B[0mlanguage\u001B[0m\u001B[1;33m]\u001B[0m\u001B[1;33m\u001B[0m\u001B[1;33m\u001B[0m\u001B[0m\n\u001B[0;32m     28\u001B[0m         \u001B[0mi_list\u001B[0m \u001B[1;33m=\u001B[0m \u001B[1;33m[\u001B[0m\u001B[1;34m'$'\u001B[0m \u001B[1;33m+\u001B[0m \u001B[0mi\u001B[0m \u001B[1;32mfor\u001B[0m \u001B[0mi\u001B[0m \u001B[1;32min\u001B[0m \u001B[1;33m(\u001B[0m\u001B[0mitems\u001B[0m \u001B[1;32mif\u001B[0m \u001B[0misinstance\u001B[0m\u001B[1;33m(\u001B[0m\u001B[0mitems\u001B[0m\u001B[1;33m,\u001B[0m \u001B[0mlist\u001B[0m\u001B[1;33m)\u001B[0m \u001B[1;32melse\u001B[0m \u001B[0mlist\u001B[0m\u001B[1;33m(\u001B[0m\u001B[0mitems\u001B[0m\u001B[1;33m)\u001B[0m\u001B[1;33m)\u001B[0m\u001B[1;33m]\u001B[0m\u001B[1;33m\u001B[0m\u001B[1;33m\u001B[0m\u001B[0m\n\u001B[1;32m---> 29\u001B[1;33m         \u001B[1;32mreturn\u001B[0m \u001B[1;33m(\u001B[0m\u001B[0msep\u001B[0m\u001B[1;33m.\u001B[0m\u001B[0mjoin\u001B[0m\u001B[1;33m(\u001B[0m\u001B[0mi_list\u001B[0m\u001B[1;33m[\u001B[0m\u001B[1;33m:\u001B[0m\u001B[1;33m-\u001B[0m\u001B[1;36m1\u001B[0m\u001B[1;33m]\u001B[0m\u001B[1;33m)\u001B[0m \u001B[1;33m+\u001B[0m \u001B[0msep_last\u001B[0m \u001B[1;33m+\u001B[0m \u001B[0mi_list\u001B[0m\u001B[1;33m[\u001B[0m\u001B[1;33m-\u001B[0m\u001B[1;36m1\u001B[0m\u001B[1;33m]\u001B[0m\u001B[1;33m)\u001B[0m \u001B[1;32mif\u001B[0m \u001B[0mlen\u001B[0m\u001B[1;33m(\u001B[0m\u001B[0mi_list\u001B[0m\u001B[1;33m)\u001B[0m \u001B[1;33m>\u001B[0m \u001B[1;36m1\u001B[0m \u001B[1;32melse\u001B[0m \u001B[0mi_list\u001B[0m\u001B[1;33m[\u001B[0m\u001B[1;36m0\u001B[0m\u001B[1;33m]\u001B[0m\u001B[1;33m\u001B[0m\u001B[1;33m\u001B[0m\u001B[0m\n\u001B[0m\u001B[0;32m     30\u001B[0m \u001B[1;33m\u001B[0m\u001B[0m\n\u001B[0;32m     31\u001B[0m     \u001B[1;32mdef\u001B[0m \u001B[0mget_reason_why\u001B[0m\u001B[1;33m(\u001B[0m\u001B[0mself\u001B[0m\u001B[1;33m,\u001B[0m \u001B[0mkey_column\u001B[0m\u001B[1;33m:\u001B[0m \u001B[0mstr\u001B[0m\u001B[1;33m,\u001B[0m \u001B[0mkey_value\u001B[0m\u001B[1;33m:\u001B[0m \u001B[0mAny\u001B[0m\u001B[1;33m,\u001B[0m \u001B[0mtemplate_index\u001B[0m\u001B[1;33m:\u001B[0m \u001B[0mUnion\u001B[0m\u001B[1;33m[\u001B[0m\u001B[0mstr\u001B[0m\u001B[1;33m,\u001B[0m \u001B[0mint\u001B[0m\u001B[1;33m]\u001B[0m \u001B[1;33m=\u001B[0m \u001B[0mRAND\u001B[0m\u001B[1;33m)\u001B[0m \u001B[1;33m->\u001B[0m \u001B[0mstr\u001B[0m\u001B[1;33m:\u001B[0m\u001B[1;33m\u001B[0m\u001B[1;33m\u001B[0m\u001B[0m\n",
      "\u001B[1;31mIndexError\u001B[0m: list index out of range"
     ]
    }
   ],
   "source": [
    "# Request explanation\n",
    "why.get_reason_why(key_column='id', key_value=9)"
   ]
  },
  {
   "cell_type": "code",
   "execution_count": null,
   "metadata": {},
   "outputs": [],
   "source": []
  },
  {
   "cell_type": "code",
   "execution_count": null,
   "metadata": {},
   "outputs": [],
   "source": []
  }
 ],
 "metadata": {
  "kernelspec": {
   "display_name": "Python 3 (ipykernel)",
   "language": "python",
   "name": "python3"
  },
  "language_info": {
   "codemirror_mode": {
    "name": "ipython",
    "version": 3
   },
   "file_extension": ".py",
   "mimetype": "text/x-python",
   "name": "python",
   "nbconvert_exporter": "python",
   "pygments_lexer": "ipython3",
   "version": "3.7.9"
  }
 },
 "nbformat": 4,
 "nbformat_minor": 1
}
